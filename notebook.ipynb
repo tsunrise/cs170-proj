{
 "cells": [
  {
   "cell_type": "markdown",
   "metadata": {},
   "source": [
    "# CS170 Project Notebook"
   ]
  },
  {
   "cell_type": "markdown",
   "metadata": {},
   "source": [
    "### Imports"
   ]
  },
  {
   "cell_type": "code",
   "execution_count": 1,
   "metadata": {},
   "outputs": [],
   "source": [
    "import networkx as nx\n",
    "from parse import read_input_file, write_input_file, write_output_file\n",
    "from utils import is_valid_network, average_pairwise_distance, average_pairwise_distance_fast\n",
    "import sys\n",
    "\n",
    "import matplotlib.pyplot as plt\n",
    "%matplotlib inline\n",
    "import random\n",
    "\n",
    "import solver\n",
    "from solver import EmployedBee"
   ]
  },
  {
   "cell_type": "markdown",
   "metadata": {},
   "source": []
  },
  {
   "cell_type": "markdown",
   "metadata": {},
   "source": [
    "## Generate Inputs"
   ]
  },
  {
   "cell_type": "code",
   "execution_count": 2,
   "metadata": {},
   "outputs": [],
   "source": [
    "def randomNGraph(n: int):\n",
    "    temp = nx.generators.random_graphs.erdos_renyi_graph(n, 5/n)\n",
    "    while not nx.is_connected(temp):\n",
    "        temp = nx.generators.random_graphs.erdos_renyi_graph(n, 5/n)\n",
    "\n",
    "    for (u, v) in temp.edges():\n",
    "        temp.edges[u, v]['weight'] = round(random.uniform(1/n, n), 2)\n",
    "    return temp\n",
    ""
   ]
  },
  {
   "cell_type": "markdown",
   "metadata": {},
   "source": [
    "## Create input files"
   ]
  },
  {
   "cell_type": "code",
   "execution_count": 3,
   "metadata": {},
   "outputs": [],
   "source": [
    "G25 = randomNGraph(25)\n",
    "G50 = randomNGraph(50)\n",
    "G100 = randomNGraph(100)"
   ]
  },
  {
   "cell_type": "code",
   "execution_count": 4,
   "metadata": {},
   "outputs": [],
   "source": [
    "write_input_file(G25, \"./25.in\")\n",
    "write_input_file(G50, \"./50.in\")\n",
    "write_input_file(G100, \"./100.in\")"
   ]
  },
  {
   "cell_type": "markdown",
   "metadata": {},
   "source": [
    "## Algorithm"
   ]
  },
  {
   "cell_type": "markdown",
   "metadata": {},
   "source": [
    "### Artificial Bee Colony Algorithms\n",
    "\n",
    "- Initialisation\n",
    "   - Each scout bee generates a random connected dominating tree and becomes employed bee. \n",
    "\n",
    "- Iteration\n",
    "   - Each employed bee calls `find_neighbor` to try to find a solution toward its local optimum. \n",
    "   - Each onlooker bee randomly chooses two employed bee and choose the bee whose solution has lower cost. The one chosen is called `find_neighbor` again.  \n",
    "   - If an employed bee solution is not improved over time (e.g. 10 times or so), fire the bee (let the bee find a new solution from scratch). \n",
    "\n",
    "- Final Decision\n",
    "   - Choose an employed bee with lower cost. "
   ]
  },
  {
   "cell_type": "code",
   "execution_count": 7,
   "metadata": {},
   "outputs": [],
   "source": [
    "def cost(T, G):\n",
    "    assert(is_valid_network(G, T))\n",
    "    return average_pairwise_distance_fast(T)"
   ]
  },
  {
   "cell_type": "markdown",
   "metadata": {},
   "source": [
    "#### Unit Tests: Test if `random_dominating_tree` (scout) is valid"
   ]
  },
  {
   "cell_type": "code",
   "execution_count": 8,
   "metadata": {},
   "outputs": [],
   "source": [
    "def testRandomDominatingTree(iterations: int, sub_iterations: int):\n",
    "    for i in range(iterations):\n",
    "        r = randomNGraph(100)\n",
    "        costs = []\n",
    "        for _ in range(sub_iterations):\n",
    "            rd = solver.randomDominatingTree(r)\n",
    "            assert(is_valid_network(r, rd))\n",
    "            costs.append(round(average_pairwise_distance_fast(rd), 2))\n",
    "        print(\"At iteration %d: Initial Costs: %s\" % (i, str(costs)))\n",
    "    print(\"TEST PASSED: All results are valid network. \")\n"
   ]
  },
  {
   "cell_type": "code",
   "execution_count": 5,
   "metadata": {},
   "outputs": [
    {
     "output_type": "error",
     "ename": "NameError",
     "evalue": "name 'testRandomDominatingTree' is not defined",
     "traceback": [
      "\u001b[1;31m---------------------------------------------------------------------------\u001b[0m",
      "\u001b[1;31mNameError\u001b[0m                                 Traceback (most recent call last)",
      "\u001b[1;32m<ipython-input-5-59e902730bd5>\u001b[0m in \u001b[0;36m<module>\u001b[1;34m\u001b[0m\n\u001b[0;32m      1\u001b[0m \u001b[0msolver\u001b[0m\u001b[1;33m.\u001b[0m\u001b[0mRANDOMIZED_WEIGHT_VARIATION\u001b[0m \u001b[1;33m=\u001b[0m \u001b[1;36m0.3\u001b[0m\u001b[1;33m\u001b[0m\u001b[1;33m\u001b[0m\u001b[0m\n\u001b[1;32m----> 2\u001b[1;33m \u001b[0mtestRandomDominatingTree\u001b[0m\u001b[1;33m(\u001b[0m\u001b[1;36m10\u001b[0m\u001b[1;33m,\u001b[0m \u001b[1;36m10\u001b[0m\u001b[1;33m)\u001b[0m\u001b[1;33m\u001b[0m\u001b[1;33m\u001b[0m\u001b[0m\n\u001b[0m",
      "\u001b[1;31mNameError\u001b[0m: name 'testRandomDominatingTree' is not defined"
     ]
    }
   ],
   "source": [
    "solver.RANDOMIZED_WEIGHT_VARIATION = 0.3\n",
    "testRandomDominatingTree(10, 10)"
   ]
  },
  {
   "cell_type": "code",
   "execution_count": 9,
   "metadata": {},
   "outputs": [],
   "source": [
    "bee = EmployedBee(G25)"
   ]
  },
  {
   "cell_type": "code",
   "execution_count": 11,
   "metadata": {},
   "outputs": [
    {
     "output_type": "execute_result",
     "data": {
      "text/plain": "39.40246666666667"
     },
     "metadata": {},
     "execution_count": 11
    }
   ],
   "source": [
    "cost(bee.solution, G25)"
   ]
  },
  {
   "cell_type": "code",
   "execution_count": 81,
   "metadata": {},
   "outputs": [
    {
     "output_type": "execute_result",
     "data": {
      "text/plain": "False"
     },
     "metadata": {},
     "execution_count": 81
    }
   ],
   "source": [
    "bee.work()"
   ]
  },
  {
   "cell_type": "code",
   "execution_count": 82,
   "metadata": {},
   "outputs": [
    {
     "output_type": "execute_result",
     "data": {
      "text/plain": "31.09619047619048"
     },
     "metadata": {},
     "execution_count": 82
    }
   ],
   "source": [
    "cost(bee.solution, G25)"
   ]
  },
  {
   "cell_type": "code",
   "execution_count": 83,
   "metadata": {},
   "outputs": [
    {
     "output_type": "display_data",
     "data": {
      "text/plain": "<Figure size 432x288 with 1 Axes>",
      "image/svg+xml": "<?xml version=\"1.0\" encoding=\"utf-8\" standalone=\"no\"?>\r\n<!DOCTYPE svg PUBLIC \"-//W3C//DTD SVG 1.1//EN\"\r\n  \"http://www.w3.org/Graphics/SVG/1.1/DTD/svg11.dtd\">\r\n<!-- Created with matplotlib (https://matplotlib.org/) -->\r\n<svg height=\"302.4pt\" version=\"1.1\" viewBox=\"0 0 446.4 302.4\" width=\"446.4pt\" xmlns=\"http://www.w3.org/2000/svg\" xmlns:xlink=\"http://www.w3.org/1999/xlink\">\r\n <defs>\r\n  <style type=\"text/css\">\r\n*{stroke-linecap:butt;stroke-linejoin:round;}\r\n  </style>\r\n </defs>\r\n <g id=\"figure_1\">\r\n  <g id=\"patch_1\">\r\n   <path d=\"M 0 302.4 \r\nL 446.4 302.4 \r\nL 446.4 0 \r\nL 0 0 \r\nz\r\n\" style=\"fill:#ffffff;\"/>\r\n  </g>\r\n  <g id=\"axes_1\">\r\n   <g id=\"LineCollection_1\">\r\n    <path clip-path=\"url(#pf1bed265c1)\" d=\"M 415.662737 151.199999 \r\nL 30.737275 177.764267 \r\n\" style=\"fill:none;stroke:#000000;\"/>\r\n    <path clip-path=\"url(#pf1bed265c1)\" d=\"M 398.839654 99.232472 \r\nL 63.648183 76.100444 \r\n\" style=\"fill:none;stroke:#000000;\"/>\r\n    <path clip-path=\"url(#pf1bed265c1)\" d=\"M 351.279239 56.250603 \r\nL 281.205185 272.713647 \r\n\" style=\"fill:none;stroke:#000000;\"/>\r\n    <path clip-path=\"url(#pf1bed265c1)\" d=\"M 281.205156 29.686345 \r\nL 200.733813 24.132904 \r\n\" style=\"fill:none;stroke:#000000;\"/>\r\n    <path clip-path=\"url(#pf1bed265c1)\" d=\"M 281.205156 29.686345 \r\nL 63.648206 226.299579 \r\n\" style=\"fill:none;stroke:#000000;\"/>\r\n    <path clip-path=\"url(#pf1bed265c1)\" d=\"M 281.205156 29.686345 \r\nL 123.779487 261.849487 \r\n\" style=\"fill:none;stroke:#000000;\"/>\r\n    <path clip-path=\"url(#pf1bed265c1)\" d=\"M 200.733813 24.132904 \r\nL 200.733846 278.267096 \r\n\" style=\"fill:none;stroke:#000000;\"/>\r\n    <path clip-path=\"url(#pf1bed265c1)\" d=\"M 123.779452 40.55052 \r\nL 30.737263 124.635752 \r\n\" style=\"fill:none;stroke:#000000;\"/>\r\n    <path clip-path=\"url(#pf1bed265c1)\" d=\"M 63.648183 76.100444 \r\nL 30.737263 124.635752 \r\n\" style=\"fill:none;stroke:#000000;\"/>\r\n    <path clip-path=\"url(#pf1bed265c1)\" d=\"M 30.737263 124.635752 \r\nL 281.205185 272.713647 \r\n\" style=\"fill:none;stroke:#000000;\"/>\r\n    <path clip-path=\"url(#pf1bed265c1)\" d=\"M 30.737275 177.764267 \r\nL 63.648206 226.299579 \r\n\" style=\"fill:none;stroke:#000000;\"/>\r\n    <path clip-path=\"url(#pf1bed265c1)\" d=\"M 123.779487 261.849487 \r\nL 281.205185 272.713647 \r\n\" style=\"fill:none;stroke:#000000;\"/>\r\n    <path clip-path=\"url(#pf1bed265c1)\" d=\"M 123.779487 261.849487 \r\nL 351.279274 246.149382 \r\n\" style=\"fill:none;stroke:#000000;\"/>\r\n    <path clip-path=\"url(#pf1bed265c1)\" d=\"M 123.779487 261.849487 \r\nL 398.839677 203.167509 \r\n\" style=\"fill:none;stroke:#000000;\"/>\r\n   </g>\r\n   <g id=\"PathCollection_1\">\r\n    <defs>\r\n     <path d=\"M 0 8.660254 \r\nC 2.296726 8.660254 4.499694 7.747755 6.123724 6.123724 \r\nC 7.747755 4.499694 8.660254 2.296726 8.660254 0 \r\nC 8.660254 -2.296726 7.747755 -4.499694 6.123724 -6.123724 \r\nC 4.499694 -7.747755 2.296726 -8.660254 0 -8.660254 \r\nC -2.296726 -8.660254 -4.499694 -7.747755 -6.123724 -6.123724 \r\nC -7.747755 -4.499694 -8.660254 -2.296726 -8.660254 0 \r\nC -8.660254 2.296726 -7.747755 4.499694 -6.123724 6.123724 \r\nC -4.499694 7.747755 -2.296726 8.660254 0 8.660254 \r\nz\r\n\" id=\"m958e6e1e7d\" style=\"stroke:#1f78b4;\"/>\r\n    </defs>\r\n    <g clip-path=\"url(#pf1bed265c1)\">\r\n     <use style=\"fill:#1f78b4;stroke:#1f78b4;\" x=\"415.662737\" xlink:href=\"#m958e6e1e7d\" y=\"151.199999\"/>\r\n     <use style=\"fill:#1f78b4;stroke:#1f78b4;\" x=\"398.839654\" xlink:href=\"#m958e6e1e7d\" y=\"99.232472\"/>\r\n     <use style=\"fill:#1f78b4;stroke:#1f78b4;\" x=\"351.279239\" xlink:href=\"#m958e6e1e7d\" y=\"56.250603\"/>\r\n     <use style=\"fill:#1f78b4;stroke:#1f78b4;\" x=\"281.205156\" xlink:href=\"#m958e6e1e7d\" y=\"29.686345\"/>\r\n     <use style=\"fill:#1f78b4;stroke:#1f78b4;\" x=\"200.733813\" xlink:href=\"#m958e6e1e7d\" y=\"24.132904\"/>\r\n     <use style=\"fill:#1f78b4;stroke:#1f78b4;\" x=\"123.779452\" xlink:href=\"#m958e6e1e7d\" y=\"40.55052\"/>\r\n     <use style=\"fill:#1f78b4;stroke:#1f78b4;\" x=\"63.648183\" xlink:href=\"#m958e6e1e7d\" y=\"76.100444\"/>\r\n     <use style=\"fill:#1f78b4;stroke:#1f78b4;\" x=\"30.737263\" xlink:href=\"#m958e6e1e7d\" y=\"124.635752\"/>\r\n     <use style=\"fill:#1f78b4;stroke:#1f78b4;\" x=\"30.737275\" xlink:href=\"#m958e6e1e7d\" y=\"177.764267\"/>\r\n     <use style=\"fill:#1f78b4;stroke:#1f78b4;\" x=\"63.648206\" xlink:href=\"#m958e6e1e7d\" y=\"226.299579\"/>\r\n     <use style=\"fill:#1f78b4;stroke:#1f78b4;\" x=\"123.779487\" xlink:href=\"#m958e6e1e7d\" y=\"261.849487\"/>\r\n     <use style=\"fill:#1f78b4;stroke:#1f78b4;\" x=\"200.733846\" xlink:href=\"#m958e6e1e7d\" y=\"278.267096\"/>\r\n     <use style=\"fill:#1f78b4;stroke:#1f78b4;\" x=\"281.205185\" xlink:href=\"#m958e6e1e7d\" y=\"272.713647\"/>\r\n     <use style=\"fill:#1f78b4;stroke:#1f78b4;\" x=\"351.279274\" xlink:href=\"#m958e6e1e7d\" y=\"246.149382\"/>\r\n     <use style=\"fill:#1f78b4;stroke:#1f78b4;\" x=\"398.839677\" xlink:href=\"#m958e6e1e7d\" y=\"203.167509\"/>\r\n    </g>\r\n   </g>\r\n  </g>\r\n </g>\r\n <defs>\r\n  <clipPath id=\"pf1bed265c1\">\r\n   <rect height=\"288\" width=\"432\" x=\"7.2\" y=\"7.2\"/>\r\n  </clipPath>\r\n </defs>\r\n</svg>\r\n",
      "image/png": "[encoded data removed]"
     },
     "metadata": {}
    }
   ],
   "source": [
    "nx.draw_shell(bee.solution)"
   ]
  }
 ],
 "metadata": {
  "language_info": {
   "name": "python",
   "codemirror_mode": {
    "name": "ipython",
    "version": 3
   },
   "version": "3.7.4-final"
  },
  "orig_nbformat": 2,
  "file_extension": ".py",
  "mimetype": "text/x-python",
  "name": "python",
  "npconvert_exporter": "python",
  "pygments_lexer": "ipython3",
  "version": 3,
  "kernelspec": {
   "name": "python37464bitbasecondac3a000222dd44143bef7e05ccc0520a7",
   "display_name": "Python 3.7.4 64-bit ('base': conda)"
  }
 },
 "nbformat": 4,
 "nbformat_minor": 2
}
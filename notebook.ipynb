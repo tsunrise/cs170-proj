{
 "cells": [
  {
   "cell_type": "markdown",
   "metadata": {},
   "source": [
    "# CS170 Project Notebook"
   ]
  },
  {
   "cell_type": "markdown",
   "metadata": {},
   "source": [
    "### Imports"
   ]
  },
  {
   "cell_type": "code",
   "execution_count": 1,
   "metadata": {},
   "outputs": [],
   "source": [
    "import networkx as nx\n",
    "from parse import read_input_file, write_input_file, write_output_file\n",
    "from utils import is_valid_network, average_pairwise_distance, average_pairwise_distance_fast\n",
    "import sys\n",
    "\n",
    "import matplotlib.pyplot as plt\n",
    "%matplotlib inline\n",
    "import random\n",
    "\n",
    "import solver\n",
    "from solver import EmployedBee"
   ]
  },
  {
   "cell_type": "markdown",
   "metadata": {},
   "source": []
  },
  {
   "cell_type": "markdown",
   "metadata": {},
   "source": [
    "## Generate Inputs"
   ]
  },
  {
   "cell_type": "code",
   "execution_count": 2,
   "metadata": {},
   "outputs": [],
   "source": [
    "def randomNGraph(n: int):\n",
    "    temp = nx.generators.random_graphs.erdos_renyi_graph(n, 5/n)\n",
    "    while not nx.is_connected(temp):\n",
    "        temp = nx.generators.random_graphs.erdos_renyi_graph(n, 5/n)\n",
    "\n",
    "    for (u, v) in temp.edges():\n",
    "        temp.edges[u, v]['weight'] = round(random.uniform(1/n, n), 2)\n",
    "    return temp\n",
    ""
   ]
  },
  {
   "cell_type": "markdown",
   "metadata": {},
   "source": [
    "## Create input files"
   ]
  },
  {
   "cell_type": "code",
   "execution_count": 3,
   "metadata": {},
   "outputs": [],
   "source": [
    "G25 = randomNGraph(25)\n",
    "G50 = randomNGraph(50)\n",
    "G100 = randomNGraph(100)"
   ]
  },
  {
   "cell_type": "code",
   "execution_count": 4,
   "metadata": {},
   "outputs": [],
   "source": [
    "write_input_file(G25, \"./25.in\")\n",
    "write_input_file(G50, \"./50.in\")\n",
    "write_input_file(G100, \"./100.in\")"
   ]
  },
  {
   "cell_type": "markdown",
   "metadata": {},
   "source": [
    "## Algorithm"
   ]
  },
  {
   "cell_type": "markdown",
   "metadata": {},
   "source": [
    "### Artificial Bee Colony Algorithms\n",
    "\n",
    "- Initialisation\n",
    "   - Each scout bee generates a random connected dominating tree and becomes employed bee. \n",
    "\n",
    "- Iteration\n",
    "   - Each employed bee calls `find_neighbor` to try to find a solution toward its local optimum. \n",
    "   - Each onlooker bee randomly chooses two employed bee and choose the bee whose solution has lower cost. The one chosen is called `find_neighbor` again.  \n",
    "   - If an employed bee solution is not improved over time (e.g. 10 times or so), fire the bee (let the bee find a new solution from scratch). \n",
    "\n",
    "- Final Decision\n",
    "   - Choose an employed bee with lower cost. "
   ]
  },
  {
   "cell_type": "code",
   "execution_count": 8,
   "metadata": {},
   "outputs": [],
   "source": [
    "def cost(T, G):\n",
    "    assert(is_valid_network(G, T))\n",
    "    return average_pairwise_distance_fast(T)"
   ]
  },
  {
   "cell_type": "markdown",
   "metadata": {},
   "source": [
    "#### Unit Tests: Test if `random_dominating_tree` (scout) is valid"
   ]
  },
  {
   "cell_type": "code",
   "execution_count": 20,
   "metadata": {},
   "outputs": [],
   "source": [
    "def testRandomDominatingTree(iterations: int, sub_iterations: int):\n",
    "    for i in range(iterations):\n",
    "        r = randomNGraph(100)\n",
    "        costs = []\n",
    "        for _ in range(sub_iterations):\n",
    "            rd = solver.randomDominatingTree(r)\n",
    "            assert(is_valid_network(r, rd))\n",
    "            costs.append(round(average_pairwise_distance_fast(rd), 2))\n",
    "        print(\"At iteration %d: Initial Costs: %s\" % (i, str(costs)))\n",
    "    print(\"TEST PASSED: All results are valid network. \")\n"
   ]
  },
  {
   "cell_type": "markdown",
   "metadata": {},
   "source": [
    "### Unit Tests: Test the ABC Algorithm and parameter"
   ]
  },
  {
   "cell_type": "code",
   "execution_count": 15,
   "metadata": {},
   "outputs": [],
   "source": [
    "def TestABC(size: int, test_iter: int, n_employed: int, n_onlooker: int, n_iter: int, fire_limit: int):\n",
    "    cost_ratio_mst:List[float] = []\n",
    "    cost_ratio_single:List[float] = []\n",
    "\n",
    "    for i in range(test_iter):\n",
    "        print(\"TEST SUITE %d\" % i)\n",
    "        G = randomNGraph(size)\n",
    "        # test ABC\n",
    "        print(\"Running ABC\")\n",
    "        T = solver.ABC(G, n_employed, n_onlooker, n_iter, fire_limit)\n",
    "        # test single intelligent observer\n",
    "        print(\"Running Single Observer\")\n",
    "        single_cost = []\n",
    "        for _ in range(n_employed):\n",
    "            bee = EmployedBee(G)\n",
    "            for _ in range(n_iter):\n",
    "                bee.work()\n",
    "            single_cost.append(cost(bee.solution, G))\n",
    "        bee = EmployedBee(G)\n",
    "        # test naive MST\n",
    "        print(\"Running MST\")\n",
    "        mst = nx.minimum_spanning_tree(G)\n",
    "        \n",
    "        mst_cost, bee_cost, T_cost = cost(mst, G), min(single_cost), cost(T, G)\n",
    "        print(\"Cost of MST is %f\" % mst_cost)\n",
    "        print(\"Cost of single observer is %f\" % bee_cost)\n",
    "        print(\"Cost of ABC is %f\" % T_cost)\n",
    "\n",
    "        cost_ratio_mst.append(T_cost / mst_cost)\n",
    "        cost_ratio_single.append(T_cost / bee_cost)\n",
    "        print(\"============================\")\n",
    "\n",
    "    print(\"Average cost ratio to MST is %f\" % (sum(cost_ratio_mst) / len(cost_ratio_mst)))\n",
    "    print(\"Average cost ratio to Single observer is %f\" % (sum(cost_ratio_single) / len(cost_ratio_single)))"
   ]
  },
  {
   "cell_type": "code",
   "execution_count": 16,
   "metadata": {},
   "outputs": [
    {
     "output_type": "stream",
     "name": "stdout",
     "text": "TEST SUITE 0\nRunning ABC\nRunning Single Observer\n"
    },
    {
     "output_type": "error",
     "ename": "TypeError",
     "evalue": "cost() missing 1 required positional argument: 'G'",
     "traceback": [
      "\u001b[1;31m---------------------------------------------------------------------------\u001b[0m",
      "\u001b[1;31mTypeError\u001b[0m                                 Traceback (most recent call last)",
      "\u001b[1;32m<ipython-input-16-0643c1561e67>\u001b[0m in \u001b[0;36m<module>\u001b[1;34m\u001b[0m\n\u001b[1;32m----> 1\u001b[1;33m \u001b[0mTestABC\u001b[0m\u001b[1;33m(\u001b[0m\u001b[1;36m100\u001b[0m\u001b[1;33m,\u001b[0m \u001b[1;36m10\u001b[0m\u001b[1;33m,\u001b[0m \u001b[1;36m8\u001b[0m\u001b[1;33m,\u001b[0m \u001b[1;36m4\u001b[0m\u001b[1;33m,\u001b[0m \u001b[1;36m2000\u001b[0m\u001b[1;33m,\u001b[0m \u001b[1;36m100\u001b[0m\u001b[1;33m)\u001b[0m\u001b[1;33m\u001b[0m\u001b[1;33m\u001b[0m\u001b[0m\n\u001b[0m",
      "\u001b[1;32m<ipython-input-15-9a0fc694e203>\u001b[0m in \u001b[0;36mTestABC\u001b[1;34m(size, test_iter, n_employed, n_onlooker, n_iter, fire_limit)\u001b[0m\n\u001b[0;32m     16\u001b[0m             \u001b[1;32mfor\u001b[0m \u001b[0m_\u001b[0m \u001b[1;32min\u001b[0m \u001b[0mrange\u001b[0m\u001b[1;33m(\u001b[0m\u001b[0mn_iter\u001b[0m\u001b[1;33m)\u001b[0m\u001b[1;33m:\u001b[0m\u001b[1;33m\u001b[0m\u001b[1;33m\u001b[0m\u001b[0m\n\u001b[0;32m     17\u001b[0m                 \u001b[0mbee\u001b[0m\u001b[1;33m.\u001b[0m\u001b[0mwork\u001b[0m\u001b[1;33m(\u001b[0m\u001b[1;33m)\u001b[0m\u001b[1;33m\u001b[0m\u001b[1;33m\u001b[0m\u001b[0m\n\u001b[1;32m---> 18\u001b[1;33m             \u001b[0msingle_cost\u001b[0m\u001b[1;33m.\u001b[0m\u001b[0mappend\u001b[0m\u001b[1;33m(\u001b[0m\u001b[0mcost\u001b[0m\u001b[1;33m(\u001b[0m\u001b[0mbee\u001b[0m\u001b[1;33m.\u001b[0m\u001b[0msolution\u001b[0m\u001b[1;33m)\u001b[0m\u001b[1;33m)\u001b[0m\u001b[1;33m\u001b[0m\u001b[1;33m\u001b[0m\u001b[0m\n\u001b[0m\u001b[0;32m     19\u001b[0m         \u001b[0mbee\u001b[0m \u001b[1;33m=\u001b[0m \u001b[0mEmployedBee\u001b[0m\u001b[1;33m(\u001b[0m\u001b[0mG\u001b[0m\u001b[1;33m)\u001b[0m\u001b[1;33m\u001b[0m\u001b[1;33m\u001b[0m\u001b[0m\n\u001b[0;32m     20\u001b[0m         \u001b[1;31m# test naive MST\u001b[0m\u001b[1;33m\u001b[0m\u001b[1;33m\u001b[0m\u001b[1;33m\u001b[0m\u001b[0m\n",
      "\u001b[1;31mTypeError\u001b[0m: cost() missing 1 required positional argument: 'G'"
     ]
    }
   ],
   "source": [
    "TestABC(100, 10, 8, 4, 2000, 100)"
   ]
  },
  {
   "cell_type": "code",
   "execution_count": null,
   "metadata": {},
   "outputs": [],
   "source": []
  }
 ],
 "metadata": {
  "language_info": {
   "name": "python",
   "codemirror_mode": {
    "name": "ipython",
    "version": 3
   },
   "version": "3.7.4-final"
  },
  "orig_nbformat": 2,
  "file_extension": ".py",
  "mimetype": "text/x-python",
  "name": "python",
  "npconvert_exporter": "python",
  "pygments_lexer": "ipython3",
  "version": 3,
  "kernelspec": {
   "name": "python37464bitbasecondac3a000222dd44143bef7e05ccc0520a7",
   "display_name": "Python 3.7.4 64-bit ('base': conda)"
  }
 },
 "nbformat": 4,
 "nbformat_minor": 2
}
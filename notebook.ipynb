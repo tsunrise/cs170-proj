{
 "nbformat": 4,
 "nbformat_minor": 2,
 "metadata": {
  "language_info": {
   "name": "python",
   "codemirror_mode": {
    "name": "ipython",
    "version": 3
   },
   "version": "3.7.4-final"
  },
  "orig_nbformat": 2,
  "file_extension": ".py",
  "mimetype": "text/x-python",
  "name": "python",
  "npconvert_exporter": "python",
  "pygments_lexer": "ipython3",
  "version": 3,
  "kernelspec": {
   "name": "python37464bitbasecondac3a000222dd44143bef7e05ccc0520a7",
   "display_name": "Python 3.7.4 64-bit ('base': conda)"
  }
 },
 "cells": [
  {
   "cell_type": "markdown",
   "metadata": {},
   "source": [
    "# CS170 Project Notebook"
   ]
  },
  {
   "cell_type": "markdown",
   "metadata": {},
   "source": [
    "### Imports"
   ]
  },
  {
   "cell_type": "code",
   "execution_count": 51,
   "metadata": {},
   "outputs": [],
   "source": [
    "import networkx as nx\n",
    "from parse import read_input_file, write_input_file, write_output_file\n",
    "from utils import is_valid_network, average_pairwise_distance\n",
    "import sys\n",
    "\n",
    "import matplotlib.pyplot as plt\n",
    "%matplotlib inline\n",
    "import random\n",
    ""
   ]
  },
  {
   "cell_type": "markdown",
   "metadata": {},
   "source": []
  },
  {
   "cell_type": "markdown",
   "metadata": {},
   "source": [
    "## Generate Inputs"
   ]
  },
  {
   "cell_type": "code",
   "execution_count": 52,
   "metadata": {},
   "outputs": [],
   "source": [
    "def randomNGraph(n: int):\n",
    "    temp = nx.generators.random_graphs.erdos_renyi_graph(n, 5/n)\n",
    "    while not nx.is_connected(temp):\n",
    "        temp = nx.generators.random_graphs.erdos_renyi_graph(n, 5/n)\n",
    "\n",
    "    for (u, v) in temp.edges():\n",
    "        temp.edges[u, v]['weight'] = round(random.uniform(1/n, n), 2)\n",
    "    return temp\n",
    ""
   ]
  },
  {
   "cell_type": "markdown",
   "metadata": {},
   "source": [
    "## Create input files"
   ]
  },
  {
   "cell_type": "code",
   "execution_count": 53,
   "metadata": {},
   "outputs": [],
   "source": [
    "G25 = randomNGraph(25)\n",
    "G50 = randomNGraph(50)\n",
    "G100 = randomNGraph(100)"
   ]
  },
  {
   "cell_type": "code",
   "execution_count": 55,
   "metadata": {},
   "outputs": [],
   "source": [
    "write_input_file(G25, \"./25.in\")\n",
    "write_input_file(G50, \"./50.in\")\n",
    "write_input_file(G100, \"./100.in\")"
   ]
  }
 ]
}
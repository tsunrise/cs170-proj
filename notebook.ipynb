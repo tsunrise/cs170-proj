{
 "cells": [
  {
   "cell_type": "markdown",
   "metadata": {},
   "source": [
    "# CS170 Project Notebook"
   ]
  },
  {
   "cell_type": "markdown",
   "metadata": {},
   "source": [
    "### Imports"
   ]
  },
  {
   "cell_type": "code",
   "execution_count": 1,
   "metadata": {},
   "outputs": [],
   "source": [
    "import networkx as nx\n",
    "from parse import read_input_file, write_input_file, write_output_file\n",
    "from utils import is_valid_network, average_pairwise_distance, average_pairwise_distance_fast\n",
    "import sys\n",
    "\n",
    "import matplotlib.pyplot as plt\n",
    "%matplotlib inline\n",
    "import random\n",
    "\n",
    "import solver"
   ]
  },
  {
   "cell_type": "markdown",
   "metadata": {},
   "source": []
  },
  {
   "cell_type": "markdown",
   "metadata": {},
   "source": [
    "## Generate Inputs"
   ]
  },
  {
   "cell_type": "code",
   "execution_count": 2,
   "metadata": {},
   "outputs": [],
   "source": [
    "def randomNGraph(n: int):\n",
    "    temp = nx.generators.random_graphs.erdos_renyi_graph(n, 5/n)\n",
    "    while not nx.is_connected(temp):\n",
    "        temp = nx.generators.random_graphs.erdos_renyi_graph(n, 5/n)\n",
    "\n",
    "    for (u, v) in temp.edges():\n",
    "        temp.edges[u, v]['weight'] = round(random.uniform(1/n, n), 2)\n",
    "    return temp\n",
    ""
   ]
  },
  {
   "cell_type": "markdown",
   "metadata": {},
   "source": [
    "## Create input files"
   ]
  },
  {
   "cell_type": "code",
   "execution_count": 8,
   "metadata": {},
   "outputs": [],
   "source": [
    "G25 = randomNGraph(25)\n",
    "G50 = randomNGraph(50)\n",
    "G100 = randomNGraph(100)"
   ]
  },
  {
   "cell_type": "code",
   "execution_count": 4,
   "metadata": {},
   "outputs": [],
   "source": [
    "write_input_file(G25, \"./25.in\")\n",
    "write_input_file(G50, \"./50.in\")\n",
    "write_input_file(G100, \"./100.in\")"
   ]
  },
  {
   "cell_type": "markdown",
   "metadata": {},
   "source": [
    "## Algorithm"
   ]
  },
  {
   "cell_type": "markdown",
   "metadata": {},
   "source": [
    "### Artificial Bee Colony Algorithms\n",
    "\n",
    "- Initialisation\n",
    "   - Each scout bee generates a random connected dominating tree and becomes employed bee. \n",
    "\n",
    "- Iteration\n",
    "   - Each employed bee calls `find_neighbor` to try to find a solution toward its local optimum. \n",
    "   - Each onlooker bee randomly chooses two employed bee and choose the bee whose solution has lower cost. The one chosen is called `find_neighbor` again.  \n",
    "   - If an employed bee solution is not improved over time (e.g. 10 times or so), fire the bee (let the bee find a new solution from scratch). \n",
    "\n",
    "- Final Decision\n",
    "   - Choose an employed bee with lower cost. "
   ]
  },
  {
   "cell_type": "markdown",
   "metadata": {},
   "source": [
    "#### Unit Tests: Test if `random_dominating_tree` (scout) is valid"
   ]
  },
  {
   "cell_type": "code",
   "execution_count": 3,
   "metadata": {},
   "outputs": [],
   "source": [
    "def testRandomDominatingTree(iterations: int, sub_iterations: int):\n",
    "    for i in range(iterations):\n",
    "        r = randomNGraph(100)\n",
    "        costs = []\n",
    "        for _ in range(sub_iterations):\n",
    "            rd = solver.randomDominatingTree(r)\n",
    "            assert(is_valid_network(r, rd))\n",
    "            costs.append(round(average_pairwise_distance_fast(rd), 2))\n",
    "        print(\"At iteration %d: Initial Costs: %s\" % (i, str(costs)))\n",
    "    print(\"TEST PASSED: All results are valid network. \")\n"
   ]
  },
  {
   "cell_type": "code",
   "execution_count": 4,
   "metadata": {},
   "outputs": [
    {
     "output_type": "stream",
     "name": "stdout",
     "text": "At iteration 0: Initial Costs: [180.38, 174.77, 146.53, 158.14, 192.16, 174.26, 170.07, 153.48, 182.57, 166.42]\nAt iteration 1: Initial Costs: [174.93, 188.45, 173.11, 191.66, 182.08, 161.21, 202.02, 160.05, 171.26, 242.24]\nAt iteration 2: Initial Costs: [180.23, 184.81, 209.63, 161.01, 197.18, 189.88, 172.65, 176.73, 215.09, 173.96]\nAt iteration 3: Initial Costs: [231.97, 212.82, 261.31, 196.78, 214.98, 216.04, 180.46, 193.54, 194.31, 209.77]\nAt iteration 4: Initial Costs: [164.31, 144.18, 171.84, 146.13, 126.77, 181.84, 192.35, 210.7, 155.17, 170.77]\nAt iteration 5: Initial Costs: [182.59, 207.28, 186.68, 237.48, 171.68, 208.05, 189.06, 220.1, 207.43, 197.07]\nAt iteration 6: Initial Costs: [217.53, 203.76, 158.54, 163.75, 191.67, 188.13, 198.26, 202.94, 157.38, 196.56]\nAt iteration 7: Initial Costs: [202.7, 213.42, 234.56, 189.45, 215.65, 166.29, 192.67, 176.87, 191.26, 171.0]\nAt iteration 8: Initial Costs: [204.55, 247.23, 230.15, 248.43, 163.97, 224.08, 233.72, 164.04, 173.98, 215.96]\nAt iteration 9: Initial Costs: [196.32, 144.85, 133.31, 199.68, 153.31, 158.94, 172.2, 158.39, 180.25, 132.64]\nTEST PASSED: All results are valid network. \n"
    }
   ],
   "source": [
    "solver.RANDOMIZED_WEIGHT_VARIATION = 0.3\n",
    "testRandomDominatingTree(10, 10)"
   ]
  },
  {
   "cell_type": "code",
   "execution_count": null,
   "metadata": {},
   "outputs": [],
   "source": []
  }
 ],
 "metadata": {
  "language_info": {
   "name": "python",
   "codemirror_mode": {
    "name": "ipython",
    "version": 3
   },
   "version": "3.7.4-final"
  },
  "orig_nbformat": 2,
  "file_extension": ".py",
  "mimetype": "text/x-python",
  "name": "python",
  "npconvert_exporter": "python",
  "pygments_lexer": "ipython3",
  "version": 3,
  "kernelspec": {
   "name": "python37464bitbasecondac3a000222dd44143bef7e05ccc0520a7",
   "display_name": "Python 3.7.4 64-bit ('base': conda)"
  }
 },
 "nbformat": 4,
 "nbformat_minor": 2
}
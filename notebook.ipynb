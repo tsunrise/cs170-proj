{
 "cells": [
  {
   "cell_type": "markdown",
   "metadata": {},
   "source": [
    "# CS170 Project Notebook"
   ]
  },
  {
   "cell_type": "markdown",
   "metadata": {},
   "source": [
    "### Imports"
   ]
  },
  {
   "cell_type": "code",
   "execution_count": 1,
   "metadata": {},
   "outputs": [],
   "source": [
    "import networkx as nx\n",
    "from parse import read_input_file, write_input_file, write_output_file\n",
    "from utils import is_valid_network, average_pairwise_distance, average_pairwise_distance_fast\n",
    "import sys\n",
    "\n",
    "import matplotlib.pyplot as plt\n",
    "%matplotlib inline\n",
    "import random\n",
    "\n",
    "import solver\n",
    "from solver import EmployedBee"
   ]
  },
  {
   "cell_type": "markdown",
   "metadata": {},
   "source": []
  },
  {
   "cell_type": "markdown",
   "metadata": {},
   "source": [
    "## Generate Inputs"
   ]
  },
  {
   "cell_type": "code",
   "execution_count": 2,
   "metadata": {},
   "outputs": [],
   "source": [
    "def randomNGraph(n: int):\n",
    "    temp = nx.generators.random_graphs.erdos_renyi_graph(n, 5/n)\n",
    "    while not nx.is_connected(temp):\n",
    "        temp = nx.generators.random_graphs.erdos_renyi_graph(n, 5/n)\n",
    "\n",
    "    for (u, v) in temp.edges():\n",
    "        temp.edges[u, v]['weight'] = round(random.uniform(1/n, n), 2)\n",
    "    return temp\n",
    ""
   ]
  },
  {
   "cell_type": "markdown",
   "metadata": {},
   "source": [
    "## Create input files"
   ]
  },
  {
   "cell_type": "code",
   "execution_count": 3,
   "metadata": {},
   "outputs": [],
   "source": [
    "G25 = randomNGraph(25)\n",
    "G50 = randomNGraph(50)\n",
    "G100 = randomNGraph(100)"
   ]
  },
  {
   "cell_type": "code",
   "execution_count": 4,
   "metadata": {},
   "outputs": [],
   "source": [
    "write_input_file(G25, \"./25.in\")\n",
    "write_input_file(G50, \"./50.in\")\n",
    "write_input_file(G100, \"./100.in\")"
   ]
  },
  {
   "cell_type": "markdown",
   "metadata": {},
   "source": [
    "## Algorithm"
   ]
  },
  {
   "cell_type": "markdown",
   "metadata": {},
   "source": [
    "### Artificial Bee Colony Algorithms\n",
    "\n",
    "- Initialisation\n",
    "   - Each scout bee generates a random connected dominating tree and becomes employed bee. \n",
    "\n",
    "- Iteration\n",
    "   - Each employed bee calls `find_neighbor` to try to find a solution toward its local optimum. \n",
    "   - Each onlooker bee randomly chooses two employed bee and choose the bee whose solution has lower cost. The one chosen is called `find_neighbor` again.  \n",
    "   - If an employed bee solution is not improved over time (e.g. 10 times or so), fire the bee (let the bee find a new solution from scratch). \n",
    "\n",
    "- Final Decision\n",
    "   - Choose an employed bee with lower cost. "
   ]
  },
  {
   "cell_type": "code",
   "execution_count": 2,
   "metadata": {},
   "outputs": [],
   "source": [
    "def cost(T, G):\n",
    "    assert(is_valid_network(G, T))\n",
    "    if len(T) == 1:\n",
    "        return 0\n",
    "    return average_pairwise_distance_fast(T)"
   ]
  },
  {
   "cell_type": "markdown",
   "metadata": {},
   "source": [
    "#### Unit Tests: Test if `random_dominating_tree` (scout) is valid"
   ]
  },
  {
   "cell_type": "code",
   "execution_count": 8,
   "metadata": {},
   "outputs": [],
   "source": [
    "def testRandomDominatingTree(iterations: int, sub_iterations: int):\n",
    "    for i in range(iterations):\n",
    "        r = randomNGraph(100)\n",
    "        costs = []\n",
    "        for _ in range(sub_iterations):\n",
    "            rd = solver.randomDominatingTree(r)\n",
    "            assert(is_valid_network(r, rd))\n",
    "            costs.append(round(average_pairwise_distance_fast(rd), 2))\n",
    "        print(\"At iteration %d: Initial Costs: %s\" % (i, str(costs)))\n",
    "    print(\"TEST PASSED: All results are valid network. \")\n"
   ]
  },
  {
   "cell_type": "markdown",
   "metadata": {},
   "source": [
    "### Unit Tests: Test the ABC Algorithm and parameter"
   ]
  },
  {
   "cell_type": "code",
   "execution_count": 9,
   "metadata": {},
   "outputs": [],
   "source": [
    "def TestABC(test_iter: int, n_employed: int, n_onlooker: int, n_iter: int, fire_limit: int):\n",
    "    cost_ratio_mst:List[float] = []\n",
    "    cost_ratio_single:List[float] = []\n",
    "\n",
    "    for i in range(test_iter):\n",
    "        f = random.randint(1, 303)\n",
    "        print(\"TEST SUITE %d\" % f)\n",
    "        G = read_input_file(\"./inputs/large-%d.in\" % f)\n",
    "        # test ABC\n",
    "        print(\"Running ABC\")\n",
    "        T = solver.ABC(G, n_employed, n_onlooker, n_iter, fire_limit, log=True)\n",
    "        # test single intelligent observer\n",
    "        print(\"Running Single Observer\")\n",
    "        single_cost = []\n",
    "        for _ in range(n_employed):\n",
    "            bee = EmployedBee(G)\n",
    "            for _ in range(n_iter):\n",
    "                bee.work()\n",
    "                if len(bee.solution) == 1:\n",
    "                    break\n",
    "            single_cost.append(cost(bee.solution, G))\n",
    "        bee = EmployedBee(G)\n",
    "        # test naive MST\n",
    "        print(\"Running MST\")\n",
    "        mst = nx.minimum_spanning_tree(G)\n",
    "        \n",
    "        mst_cost, bee_cost, T_cost = cost(mst, G), min(single_cost), cost(T, G)\n",
    "        print(\"Cost of MST is %f\" % mst_cost)\n",
    "        print(\"Cost of single observer is %f\" % bee_cost)\n",
    "        print(\"Cost of ABC is %f\" % T_cost)\n",
    "\n",
    "        if (bee_cost == 0):\n",
    "            bee_cost = 1e-99\n",
    "        if (mst_cost == 0):\n",
    "            mst_cost = 1e-99\n",
    "        cost_ratio_mst.append(T_cost / mst_cost)\n",
    "        cost_ratio_single.append(T_cost / bee_cost)\n",
    "        print(\"============================\")\n",
    "\n",
    "    print(\"Average cost ratio to MST is %f\" % (sum(cost_ratio_mst) / len(cost_ratio_mst)))\n",
    "    print(\"Average cost ratio to Single observer is %f\" % (sum(cost_ratio_single) / len(cost_ratio_single)))"
   ]
  },
  {
   "cell_type": "code",
   "execution_count": 10,
   "metadata": {},
   "outputs": [
    {
     "output_type": "stream",
     "name": "stdout",
     "text": "TEST SUITE 178\nRunning ABC\nAt iteration 0, the best cost is 3.294384, 15 scouts are called\nAt iteration 100, the best cost is 2.027273, 15 scouts are called\nAt iteration 200, the best cost is 1.827778, 30 scouts are called\nAt iteration 300, the best cost is 1.827778, 45 scouts are called\nAt iteration 400, the best cost is 1.827778, 59 scouts are called\nAt iteration 500, the best cost is 1.827778, 63 scouts are called\nAt iteration 600, the best cost is 1.827778, 75 scouts are called\nAt iteration 700, the best cost is 1.827778, 90 scouts are called\nAt iteration 800, the best cost is 1.827778, 105 scouts are called\nAt iteration 900, the best cost is 1.827778, 116 scouts are called\nAt iteration 1000, the best cost is 1.827778, 124 scouts are called\nAt iteration 1100, the best cost is 1.827778, 135 scouts are called\nAt iteration 1200, the best cost is 1.800000, 149 scouts are called\nAt iteration 1300, the best cost is 1.790909, 163 scouts are called\nRunning Single Observer\nRunning MST\nCost of MST is 3.803333\nCost of single observer is 1.790909\nCost of ABC is 1.790909\n============================\nTEST SUITE 111\nRunning ABC\nAt iteration 0, the best cost is 109.752000, 15 scouts are called\nAt iteration 100, the best cost is 99.715000, 15 scouts are called\nAt iteration 200, the best cost is 99.715000, 30 scouts are called\nAt iteration 300, the best cost is 99.715000, 45 scouts are called\nAt iteration 400, the best cost is 99.715000, 60 scouts are called\nAt iteration 500, the best cost is 99.715000, 75 scouts are called\nAt iteration 600, the best cost is 99.715000, 90 scouts are called\nAt iteration 700, the best cost is 99.715000, 105 scouts are called\nAt iteration 800, the best cost is 99.715000, 120 scouts are called\nAt iteration 900, the best cost is 99.715000, 135 scouts are called\nAt iteration 1000, the best cost is 99.715000, 150 scouts are called\nAt iteration 1100, the best cost is 99.715000, 165 scouts are called\nAt iteration 1200, the best cost is 99.715000, 180 scouts are called\nAt iteration 1300, the best cost is 99.715000, 195 scouts are called\nRunning Single Observer\nRunning MST\nCost of MST is 123.196000\nCost of single observer is 99.715000\nCost of ABC is 99.715000\n============================\nTEST SUITE 69\nRunning ABC\nAt iteration 0, the best cost is 6.666667, 15 scouts are called\nFound a bee whose cost is zero! Program finished early at iteration 4. \nRunning Single Observer\nRunning MST\nCost of MST is 7.000000\nCost of single observer is 0.000000\nCost of ABC is 0.000000\n============================\nTEST SUITE 253\nRunning ABC\nAt iteration 0, the best cost is 113.010424, 15 scouts are called\nAt iteration 100, the best cost is 69.475127, 15 scouts are called\nAt iteration 200, the best cost is 69.475127, 30 scouts are called\nAt iteration 300, the best cost is 69.475127, 45 scouts are called\nAt iteration 400, the best cost is 69.475127, 57 scouts are called\nAt iteration 500, the best cost is 69.475127, 61 scouts are called\nAt iteration 600, the best cost is 69.475127, 75 scouts are called\nAt iteration 700, the best cost is 66.406227, 90 scouts are called\nAt iteration 800, the best cost is 66.406227, 104 scouts are called\nAt iteration 900, the best cost is 66.406227, 114 scouts are called\nAt iteration 1000, the best cost is 66.406227, 121 scouts are called\nAt iteration 1100, the best cost is 66.406227, 135 scouts are called\nAt iteration 1200, the best cost is 66.406227, 149 scouts are called\nAt iteration 1300, the best cost is 66.406227, 159 scouts are called\nRunning Single Observer\nRunning MST\nCost of MST is 129.065120\nCost of single observer is 72.658939\nCost of ABC is 66.406227\n============================\nTEST SUITE 152\nRunning ABC\nAt iteration 0, the best cost is 43.766419, 15 scouts are called\nAt iteration 100, the best cost is 43.242743, 15 scouts are called\nAt iteration 200, the best cost is 43.242743, 30 scouts are called\nAt iteration 300, the best cost is 43.242743, 45 scouts are called\nAt iteration 400, the best cost is 43.242743, 60 scouts are called\nAt iteration 500, the best cost is 43.242743, 75 scouts are called\nAt iteration 600, the best cost is 43.242743, 90 scouts are called\nAt iteration 700, the best cost is 43.242743, 105 scouts are called\nAt iteration 800, the best cost is 43.242743, 120 scouts are called\nAt iteration 900, the best cost is 43.242743, 135 scouts are called\nAt iteration 1000, the best cost is 43.242743, 150 scouts are called\nAt iteration 1100, the best cost is 43.242743, 165 scouts are called\nAt iteration 1200, the best cost is 43.242743, 180 scouts are called\nAt iteration 1300, the best cost is 43.242743, 195 scouts are called\nRunning Single Observer\nRunning MST\nCost of MST is 47.934213\nCost of single observer is 43.242743\nCost of ABC is 43.242743\n============================\nTEST SUITE 165\nRunning ABC\nAt iteration 0, the best cost is 30.456743, 15 scouts are called\nFound a bee whose cost is zero! Program finished early at iteration 21. \nRunning Single Observer\nRunning MST\nCost of MST is 29.237433\nCost of single observer is 0.000000\nCost of ABC is 0.000000\n============================\nTEST SUITE 178\nRunning ABC\nAt iteration 0, the best cost is 3.423333, 15 scouts are called\nAt iteration 100, the best cost is 1.800000, 15 scouts are called\nAt iteration 200, the best cost is 1.800000, 30 scouts are called\nAt iteration 300, the best cost is 1.800000, 45 scouts are called\nAt iteration 400, the best cost is 1.800000, 55 scouts are called\nAt iteration 500, the best cost is 1.790909, 62 scouts are called\nAt iteration 600, the best cost is 1.790909, 75 scouts are called\nAt iteration 700, the best cost is 1.790909, 89 scouts are called\nAt iteration 800, the best cost is 1.790909, 101 scouts are called\nAt iteration 900, the best cost is 1.790909, 111 scouts are called\nAt iteration 1000, the best cost is 1.790909, 120 scouts are called\nAt iteration 1100, the best cost is 1.790909, 134 scouts are called\nAt iteration 1200, the best cost is 1.790909, 148 scouts are called\nAt iteration 1300, the best cost is 1.790909, 160 scouts are called\nRunning Single Observer\nRunning MST\nCost of MST is 3.803333\nCost of single observer is 1.872727\nCost of ABC is 1.790909\n============================\nTEST SUITE 46\nRunning ABC\nAt iteration 0, the best cost is 1.096267, 15 scouts are called\nAt iteration 100, the best cost is 0.100000, 15 scouts are called\nAt iteration 200, the best cost is 0.100000, 30 scouts are called\nAt iteration 300, the best cost is 0.100000, 45 scouts are called\nAt iteration 400, the best cost is 0.100000, 48 scouts are called\nAt iteration 500, the best cost is 0.100000, 60 scouts are called\nAt iteration 600, the best cost is 0.100000, 75 scouts are called\nAt iteration 700, the best cost is 0.100000, 84 scouts are called\nAt iteration 800, the best cost is 0.100000, 91 scouts are called\nAt iteration 900, the best cost is 0.100000, 105 scouts are called\nAt iteration 1000, the best cost is 0.100000, 117 scouts are called\nAt iteration 1100, the best cost is 0.100000, 127 scouts are called\nAt iteration 1200, the best cost is 0.100000, 135 scouts are called\nAt iteration 1300, the best cost is 0.100000, 148 scouts are called\nRunning Single Observer\nRunning MST\nCost of MST is 0.967333\nCost of single observer is 0.100000\nCost of ABC is 0.100000\n============================\nTEST SUITE 233\nRunning ABC\nAt iteration 0, the best cost is 120.855217, 15 scouts are called\nAt iteration 100, the best cost is 68.788364, 15 scouts are called\nAt iteration 200, the best cost is 63.212422, 30 scouts are called\nAt iteration 300, the best cost is 63.212422, 45 scouts are called\nAt iteration 400, the best cost is 63.212422, 60 scouts are called\nAt iteration 500, the best cost is 63.212422, 69 scouts are called\nAt iteration 600, the best cost is 59.787378, 76 scouts are called\nAt iteration 700, the best cost is 59.787378, 90 scouts are called\nAt iteration 800, the best cost is 59.787378, 105 scouts are called\nAt iteration 900, the best cost is 59.787378, 118 scouts are called\nAt iteration 1000, the best cost is 59.787378, 131 scouts are called\nAt iteration 1100, the best cost is 59.787378, 142 scouts are called\nAt iteration 1200, the best cost is 59.787378, 150 scouts are called\nAt iteration 1300, the best cost is 59.787378, 165 scouts are called\nRunning Single Observer\nRunning MST\nCost of MST is 138.819100\nCost of single observer is 65.183382\nCost of ABC is 59.787378\n============================\nTEST SUITE 202\nRunning ABC\nAt iteration 0, the best cost is 77.123514, 15 scouts are called\nAt iteration 100, the best cost is 33.878205, 15 scouts are called\nAt iteration 200, the best cost is 33.878205, 30 scouts are called\nAt iteration 300, the best cost is 33.108788, 45 scouts are called\nAt iteration 400, the best cost is 33.108788, 59 scouts are called\nAt iteration 500, the best cost is 33.108788, 65 scouts are called\nAt iteration 600, the best cost is 33.108788, 76 scouts are called\nAt iteration 700, the best cost is 33.108788, 90 scouts are called\nAt iteration 800, the best cost is 33.108788, 103 scouts are called\nAt iteration 900, the best cost is 33.108788, 115 scouts are called\nAt iteration 1000, the best cost is 33.108788, 125 scouts are called\nAt iteration 1100, the best cost is 33.108788, 135 scouts are called\nAt iteration 1200, the best cost is 33.108788, 150 scouts are called\nAt iteration 1300, the best cost is 33.108788, 161 scouts are called\nRunning Single Observer\nRunning MST\nCost of MST is 106.731933\nCost of single observer is 34.406970\nCost of ABC is 33.108788\n============================\nAverage cost ratio to MST is 0.401207\nAverage cost ratio to Single observer is 0.774974\n"
    }
   ],
   "source": [
    "TestABC(10, 15, 3, 1400, 100)"
   ]
  },
  {
   "cell_type": "code",
   "execution_count": 13,
   "metadata": {},
   "outputs": [],
   "source": [
    "G = read_input_file(\"./inputs/large-68.in\")"
   ]
  },
  {
   "cell_type": "code",
   "execution_count": 11,
   "metadata": {},
   "outputs": [],
   "source": [
    "import os"
   ]
  },
  {
   "cell_type": "code",
   "execution_count": 17,
   "metadata": {},
   "outputs": [
    {
     "output_type": "execute_result",
     "data": {
      "text/plain": "['large-1',\n 'large-10',\n 'large-100',\n 'large-101',\n 'large-102',\n 'large-103',\n 'large-104',\n 'large-105',\n 'large-106',\n 'large-107',\n 'large-108',\n 'large-109',\n 'large-11',\n 'large-110',\n 'large-111',\n 'large-112',\n 'large-113',\n 'large-114',\n 'large-115',\n 'large-116',\n 'large-117',\n 'large-118',\n 'large-119',\n 'large-12',\n 'large-120',\n 'large-121',\n 'large-122',\n 'large-123',\n 'large-124',\n 'large-125',\n 'large-126',\n 'large-127',\n 'large-128',\n 'large-129',\n 'large-13',\n 'large-130',\n 'large-131',\n 'large-132',\n 'large-133',\n 'large-134',\n 'large-135',\n 'large-136',\n 'large-137',\n 'large-138',\n 'large-139',\n 'large-14',\n 'large-140',\n 'large-141',\n 'large-142',\n 'large-143',\n 'large-144',\n 'large-145',\n 'large-146',\n 'large-147',\n 'large-148',\n 'large-149',\n 'large-15',\n 'large-150',\n 'large-151',\n 'large-152',\n 'large-153',\n 'large-154',\n 'large-155',\n 'large-156',\n 'large-157',\n 'large-158',\n 'large-159',\n 'large-16',\n 'large-160',\n 'large-161',\n 'large-162',\n 'large-163',\n 'large-164',\n 'large-165',\n 'large-166',\n 'large-167',\n 'large-168',\n 'large-169',\n 'large-17',\n 'large-170',\n 'large-171',\n 'large-172',\n 'large-173',\n 'large-174',\n 'large-175',\n 'large-176',\n 'large-177',\n 'large-178',\n 'large-179',\n 'large-18',\n 'large-180',\n 'large-181',\n 'large-182',\n 'large-183',\n 'large-184',\n 'large-185',\n 'large-186',\n 'large-187',\n 'large-188',\n 'large-189',\n 'large-19',\n 'large-190',\n 'large-191',\n 'large-192',\n 'large-193',\n 'large-194',\n 'large-195',\n 'large-196',\n 'large-197',\n 'large-198',\n 'large-199',\n 'large-2',\n 'large-20',\n 'large-200',\n 'large-201',\n 'large-202',\n 'large-203',\n 'large-204',\n 'large-205',\n 'large-206',\n 'large-207',\n 'large-208',\n 'large-209',\n 'large-21',\n 'large-210',\n 'large-211',\n 'large-212',\n 'large-213',\n 'large-214',\n 'large-215',\n 'large-216',\n 'large-217',\n 'large-218',\n 'large-219',\n 'large-22',\n 'large-220',\n 'large-221',\n 'large-222',\n 'large-223',\n 'large-224',\n 'large-225',\n 'large-226',\n 'large-227',\n 'large-228',\n 'large-229',\n 'large-23',\n 'large-230',\n 'large-231',\n 'large-232',\n 'large-233',\n 'large-234',\n 'large-235',\n 'large-236',\n 'large-237',\n 'large-238',\n 'large-239',\n 'large-24',\n 'large-240',\n 'large-241',\n 'large-242',\n 'large-243',\n 'large-244',\n 'large-245',\n 'large-246',\n 'large-247',\n 'large-248',\n 'large-249',\n 'large-25',\n 'large-250',\n 'large-251',\n 'large-252',\n 'large-253',\n 'large-254',\n 'large-255',\n 'large-256',\n 'large-257',\n 'large-258',\n 'large-259',\n 'large-26',\n 'large-260',\n 'large-261',\n 'large-262',\n 'large-263',\n 'large-264',\n 'large-265',\n 'large-266',\n 'large-267',\n 'large-268',\n 'large-269',\n 'large-27',\n 'large-270',\n 'large-271',\n 'large-272',\n 'large-273',\n 'large-274',\n 'large-275',\n 'large-276',\n 'large-277',\n 'large-278',\n 'large-279',\n 'large-28',\n 'large-280',\n 'large-281',\n 'large-282',\n 'large-283',\n 'large-284',\n 'large-285',\n 'large-286',\n 'large-287',\n 'large-288',\n 'large-289',\n 'large-29',\n 'large-290',\n 'large-291',\n 'large-292',\n 'large-293',\n 'large-294',\n 'large-295',\n 'large-296',\n 'large-297',\n 'large-298',\n 'large-299',\n 'large-3',\n 'large-30',\n 'large-300',\n 'large-301',\n 'large-302',\n 'large-303',\n 'large-304',\n 'large-305',\n 'large-306',\n 'large-307',\n 'large-308',\n 'large-309',\n 'large-31',\n 'large-310',\n 'large-311',\n 'large-312',\n 'large-313',\n 'large-314',\n 'large-315',\n 'large-316',\n 'large-317',\n 'large-318',\n 'large-319',\n 'large-32',\n 'large-320',\n 'large-321',\n 'large-322',\n 'large-323',\n 'large-324',\n 'large-325',\n 'large-326',\n 'large-327',\n 'large-328',\n 'large-329',\n 'large-33',\n 'large-330',\n 'large-331',\n 'large-332',\n 'large-333',\n 'large-334',\n 'large-335',\n 'large-336',\n 'large-337',\n 'large-338',\n 'large-339',\n 'large-34',\n 'large-340',\n 'large-341',\n 'large-342',\n 'large-343',\n 'large-344',\n 'large-345',\n 'large-346',\n 'large-347',\n 'large-348',\n 'large-349',\n 'large-35',\n 'large-350',\n 'large-351',\n 'large-352',\n 'large-353',\n 'large-354',\n 'large-355',\n 'large-356',\n 'large-357',\n 'large-358',\n 'large-359',\n 'large-36',\n 'large-360',\n 'large-361',\n 'large-362',\n 'large-363',\n 'large-364',\n 'large-365',\n 'large-366',\n 'large-367',\n 'large-368',\n 'large-369',\n 'large-37',\n 'large-370',\n 'large-371',\n 'large-372',\n 'large-373',\n 'large-374',\n 'large-375',\n 'large-376',\n 'large-377',\n 'large-378',\n 'large-379',\n 'large-38',\n 'large-380',\n 'large-381',\n 'large-382',\n 'large-383',\n 'large-384',\n 'large-385',\n 'large-386',\n 'large-387',\n 'large-388',\n 'large-389',\n 'large-39',\n 'large-390',\n 'large-391',\n 'large-392',\n 'large-393',\n 'large-394',\n 'large-395',\n 'large-396',\n 'large-397',\n 'large-398',\n 'large-399',\n 'large-4',\n 'large-40',\n 'large-400',\n 'large-41',\n 'large-42',\n 'large-43',\n 'large-44',\n 'large-45',\n 'large-46',\n 'large-47',\n 'large-48',\n 'large-49',\n 'large-5',\n 'large-50',\n 'large-51',\n 'large-52',\n 'large-53',\n 'large-54',\n 'large-55',\n 'large-56',\n 'large-57',\n 'large-58',\n 'large-59',\n 'large-6',\n 'large-60',\n 'large-61',\n 'large-62',\n 'large-63',\n 'large-64',\n 'large-65',\n 'large-66',\n 'large-67',\n 'large-68',\n 'large-69',\n 'large-7',\n 'large-70',\n 'large-71',\n 'large-72',\n 'large-73',\n 'large-74',\n 'large-75',\n 'large-76',\n 'large-77',\n 'large-78',\n 'large-79',\n 'large-8',\n 'large-80',\n 'large-81',\n 'large-82',\n 'large-83',\n 'large-84',\n 'large-85',\n 'large-86',\n 'large-87',\n 'large-88',\n 'large-89',\n 'large-9',\n 'large-90',\n 'large-91',\n 'large-92',\n 'large-93',\n 'large-94',\n 'large-95',\n 'large-96',\n 'large-97',\n 'large-98',\n 'large-99',\n 'medium-1',\n 'medium-10',\n 'medium-100',\n 'medium-101',\n 'medium-102',\n 'medium-103',\n 'medium-104',\n 'medium-105',\n 'medium-106',\n 'medium-107',\n 'medium-108',\n 'medium-109',\n 'medium-11',\n 'medium-110',\n 'medium-111',\n 'medium-112',\n 'medium-113',\n 'medium-114',\n 'medium-115',\n 'medium-116',\n 'medium-117',\n 'medium-118',\n 'medium-119',\n 'medium-12',\n 'medium-120',\n 'medium-121',\n 'medium-122',\n 'medium-123',\n 'medium-124',\n 'medium-125',\n 'medium-126',\n 'medium-127',\n 'medium-128',\n 'medium-129',\n 'medium-13',\n 'medium-130',\n 'medium-131',\n 'medium-132',\n 'medium-133',\n 'medium-134',\n 'medium-135',\n 'medium-136',\n 'medium-137',\n 'medium-138',\n 'medium-139',\n 'medium-14',\n 'medium-140',\n 'medium-141',\n 'medium-142',\n 'medium-143',\n 'medium-144',\n 'medium-145',\n 'medium-146',\n 'medium-147',\n 'medium-148',\n 'medium-149',\n 'medium-15',\n 'medium-150',\n 'medium-151',\n 'medium-152',\n 'medium-153',\n 'medium-154',\n 'medium-155',\n 'medium-156',\n 'medium-157',\n 'medium-158',\n 'medium-159',\n 'medium-16',\n 'medium-160',\n 'medium-161',\n 'medium-162',\n 'medium-163',\n 'medium-164',\n 'medium-165',\n 'medium-166',\n 'medium-167',\n 'medium-168',\n 'medium-169',\n 'medium-17',\n 'medium-170',\n 'medium-171',\n 'medium-172',\n 'medium-173',\n 'medium-174',\n 'medium-175',\n 'medium-176',\n 'medium-177',\n 'medium-178',\n 'medium-179',\n 'medium-18',\n 'medium-180',\n 'medium-181',\n 'medium-182',\n 'medium-183',\n 'medium-184',\n 'medium-185',\n 'medium-186',\n 'medium-187',\n 'medium-188',\n 'medium-189',\n 'medium-19',\n 'medium-190',\n 'medium-191',\n 'medium-192',\n 'medium-193',\n 'medium-194',\n 'medium-195',\n 'medium-196',\n 'medium-197',\n 'medium-198',\n 'medium-199',\n 'medium-2',\n 'medium-20',\n 'medium-200',\n 'medium-201',\n 'medium-202',\n 'medium-203',\n 'medium-204',\n 'medium-205',\n 'medium-206',\n 'medium-207',\n 'medium-208',\n 'medium-209',\n 'medium-21',\n 'medium-210',\n 'medium-211',\n 'medium-212',\n 'medium-213',\n 'medium-214',\n 'medium-215',\n 'medium-216',\n 'medium-217',\n 'medium-218',\n 'medium-219',\n 'medium-22',\n 'medium-220',\n 'medium-221',\n 'medium-222',\n 'medium-223',\n 'medium-224',\n 'medium-225',\n 'medium-226',\n 'medium-227',\n 'medium-228',\n 'medium-229',\n 'medium-23',\n 'medium-230',\n 'medium-231',\n 'medium-232',\n 'medium-233',\n 'medium-234',\n 'medium-235',\n 'medium-236',\n 'medium-237',\n 'medium-238',\n 'medium-239',\n 'medium-24',\n 'medium-240',\n 'medium-241',\n 'medium-242',\n 'medium-243',\n 'medium-244',\n 'medium-245',\n 'medium-246',\n 'medium-247',\n 'medium-248',\n 'medium-249',\n 'medium-25',\n 'medium-250',\n 'medium-251',\n 'medium-252',\n 'medium-253',\n 'medium-254',\n 'medium-255',\n 'medium-256',\n 'medium-257',\n 'medium-258',\n 'medium-259',\n 'medium-26',\n 'medium-260',\n 'medium-261',\n 'medium-262',\n 'medium-263',\n 'medium-264',\n 'medium-265',\n 'medium-266',\n 'medium-267',\n 'medium-268',\n 'medium-269',\n 'medium-27',\n 'medium-270',\n 'medium-271',\n 'medium-272',\n 'medium-273',\n 'medium-274',\n 'medium-275',\n 'medium-276',\n 'medium-277',\n 'medium-278',\n 'medium-279',\n 'medium-28',\n 'medium-280',\n 'medium-281',\n 'medium-282',\n 'medium-283',\n 'medium-284',\n 'medium-285',\n 'medium-286',\n 'medium-287',\n 'medium-288',\n 'medium-289',\n 'medium-29',\n 'medium-290',\n 'medium-291',\n 'medium-292',\n 'medium-293',\n 'medium-294',\n 'medium-295',\n 'medium-296',\n 'medium-297',\n 'medium-298',\n 'medium-299',\n 'medium-3',\n 'medium-30',\n 'medium-300',\n 'medium-301',\n 'medium-302',\n 'medium-303',\n 'medium-31',\n 'medium-32',\n 'medium-33',\n 'medium-34',\n 'medium-35',\n 'medium-36',\n 'medium-37',\n 'medium-38',\n 'medium-39',\n 'medium-4',\n 'medium-40',\n 'medium-41',\n 'medium-42',\n 'medium-43',\n 'medium-44',\n 'medium-45',\n 'medium-46',\n 'medium-47',\n 'medium-48',\n 'medium-49',\n 'medium-5',\n 'medium-50',\n 'medium-51',\n 'medium-52',\n 'medium-53',\n 'medium-54',\n 'medium-55',\n 'medium-56',\n 'medium-57',\n 'medium-58',\n 'medium-59',\n 'medium-6',\n 'medium-60',\n 'medium-61',\n 'medium-62',\n 'medium-63',\n 'medium-64',\n 'medium-65',\n 'medium-66',\n 'medium-67',\n 'medium-68',\n 'medium-69',\n 'medium-7',\n 'medium-70',\n 'medium-71',\n 'medium-72',\n 'medium-73',\n 'medium-74',\n 'medium-75',\n 'medium-76',\n 'medium-77',\n 'medium-78',\n 'medium-79',\n 'medium-8',\n 'medium-80',\n 'medium-81',\n 'medium-82',\n 'medium-83',\n 'medium-84',\n 'medium-85',\n 'medium-86',\n 'medium-87',\n 'medium-88',\n 'medium-89',\n 'medium-9',\n 'medium-90',\n 'medium-91',\n 'medium-92',\n 'medium-93',\n 'medium-94',\n 'medium-95',\n 'medium-96',\n 'medium-97',\n 'medium-98',\n 'medium-99',\n 'small-1',\n 'small-10',\n 'small-100',\n 'small-101',\n 'small-102',\n 'small-103',\n 'small-104',\n 'small-105',\n 'small-106',\n 'small-107',\n 'small-108',\n 'small-109',\n 'small-11',\n 'small-110',\n 'small-111',\n 'small-112',\n 'small-113',\n 'small-114',\n 'small-115',\n 'small-116',\n 'small-117',\n 'small-118',\n 'small-119',\n 'small-12',\n 'small-120',\n 'small-121',\n 'small-122',\n 'small-123',\n 'small-124',\n 'small-125',\n 'small-126',\n 'small-127',\n 'small-128',\n 'small-129',\n 'small-13',\n 'small-130',\n 'small-131',\n 'small-132',\n 'small-133',\n 'small-134',\n 'small-135',\n 'small-136',\n 'small-137',\n 'small-138',\n 'small-139',\n 'small-14',\n 'small-140',\n 'small-141',\n 'small-142',\n 'small-143',\n 'small-144',\n 'small-145',\n 'small-146',\n 'small-147',\n 'small-148',\n 'small-149',\n 'small-15',\n 'small-150',\n 'small-151',\n 'small-152',\n 'small-153',\n 'small-154',\n 'small-155',\n 'small-156',\n 'small-157',\n 'small-158',\n 'small-159',\n 'small-16',\n 'small-160',\n 'small-161',\n 'small-162',\n 'small-163',\n 'small-164',\n 'small-165',\n 'small-166',\n 'small-167',\n 'small-168',\n 'small-169',\n 'small-17',\n 'small-170',\n 'small-171',\n 'small-172',\n 'small-173',\n 'small-174',\n 'small-175',\n 'small-176',\n 'small-177',\n 'small-178',\n 'small-179',\n 'small-18',\n 'small-180',\n 'small-181',\n 'small-182',\n 'small-183',\n 'small-184',\n 'small-185',\n 'small-186',\n 'small-187',\n 'small-188',\n 'small-189',\n 'small-19',\n 'small-190',\n 'small-191',\n 'small-192',\n 'small-193',\n 'small-194',\n 'small-195',\n 'small-196',\n 'small-197',\n 'small-198',\n 'small-199',\n 'small-2',\n 'small-20',\n 'small-200',\n 'small-201',\n 'small-202',\n 'small-203',\n 'small-204',\n 'small-205',\n 'small-206',\n 'small-207',\n 'small-208',\n 'small-209',\n 'small-21',\n 'small-210',\n 'small-211',\n 'small-212',\n 'small-213',\n 'small-214',\n 'small-215',\n 'small-216',\n 'small-217',\n 'small-218',\n 'small-219',\n 'small-22',\n 'small-220',\n 'small-221',\n 'small-222',\n 'small-223',\n 'small-224',\n 'small-225',\n 'small-226',\n 'small-227',\n 'small-228',\n 'small-229',\n 'small-23',\n 'small-230',\n 'small-231',\n 'small-232',\n 'small-233',\n 'small-234',\n 'small-235',\n 'small-236',\n 'small-237',\n 'small-238',\n 'small-239',\n 'small-24',\n 'small-240',\n 'small-241',\n 'small-242',\n 'small-243',\n 'small-244',\n 'small-245',\n 'small-246',\n 'small-247',\n 'small-248',\n 'small-249',\n 'small-25',\n 'small-250',\n 'small-251',\n 'small-252',\n 'small-253',\n 'small-254',\n 'small-255',\n 'small-256',\n 'small-257',\n 'small-258',\n 'small-259',\n 'small-26',\n 'small-260',\n 'small-261',\n 'small-262',\n 'small-263',\n 'small-264',\n 'small-265',\n 'small-266',\n 'small-267',\n 'small-268',\n 'small-269',\n 'small-27',\n 'small-270',\n 'small-271',\n 'small-272',\n 'small-273',\n 'small-274',\n 'small-275',\n 'small-276',\n 'small-277',\n 'small-278',\n 'small-279',\n 'small-28',\n 'small-280',\n 'small-281',\n 'small-282',\n 'small-283',\n 'small-284',\n 'small-285',\n 'small-286',\n 'small-287',\n 'small-288',\n 'small-289',\n 'small-29',\n 'small-290',\n 'small-291',\n 'small-292',\n 'small-293',\n 'small-294',\n 'small-295',\n 'small-296',\n 'small-297',\n 'small-298',\n 'small-299',\n 'small-3',\n 'small-30',\n 'small-300',\n 'small-301',\n 'small-302',\n 'small-303',\n 'small-31',\n 'small-32',\n 'small-33',\n 'small-34',\n 'small-35',\n 'small-36',\n 'small-37',\n 'small-38',\n 'small-39',\n 'small-4',\n 'small-40',\n 'small-41',\n 'small-42',\n 'small-43',\n 'small-44',\n 'small-45',\n 'small-46',\n 'small-47',\n 'small-48',\n 'small-49',\n 'small-5',\n 'small-50',\n 'small-51',\n 'small-52',\n 'small-53',\n 'small-54',\n 'small-55',\n 'small-56',\n 'small-57',\n 'small-58',\n 'small-59',\n 'small-6',\n 'small-60',\n 'small-61',\n 'small-62',\n 'small-63',\n 'small-64',\n 'small-65',\n 'small-66',\n 'small-67',\n 'small-68',\n 'small-69',\n 'small-7',\n 'small-70',\n 'small-71',\n 'small-72',\n 'small-73',\n 'small-74',\n 'small-75',\n 'small-76',\n 'small-77',\n 'small-78',\n 'small-79',\n 'small-8',\n 'small-80',\n 'small-81',\n 'small-82',\n 'small-83',\n 'small-84',\n 'small-85',\n 'small-86',\n 'small-87',\n 'small-88',\n 'small-89',\n 'small-9',\n 'small-90',\n 'small-91',\n 'small-92',\n 'small-93',\n ...]"
     },
     "metadata": {},
     "execution_count": 17
    }
   ],
   "source": [
    "[f[:-3] for f in os.listdir(\"./inputs/\") if f[-3:] == \".in\"]"
   ]
  },
  {
   "cell_type": "code",
   "execution_count": null,
   "metadata": {},
   "outputs": [],
   "source": []
  }
 ],
 "metadata": {
  "language_info": {
   "name": "python",
   "codemirror_mode": {
    "name": "ipython",
    "version": 3
   },
   "version": "3.7.4-final"
  },
  "orig_nbformat": 2,
  "file_extension": ".py",
  "mimetype": "text/x-python",
  "name": "python",
  "npconvert_exporter": "python",
  "pygments_lexer": "ipython3",
  "version": 3,
  "kernelspec": {
   "name": "python37464bitbasecondac3a000222dd44143bef7e05ccc0520a7",
   "display_name": "Python 3.7.4 64-bit ('base': conda)"
  }
 },
 "nbformat": 4,
 "nbformat_minor": 2
}
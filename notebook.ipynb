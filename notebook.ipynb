{
 "cells": [
  {
   "cell_type": "markdown",
   "metadata": {},
   "source": [
    "# CS170 Project Notebook"
   ]
  },
  {
   "cell_type": "markdown",
   "metadata": {},
   "source": [
    "### Imports"
   ]
  },
  {
   "cell_type": "code",
   "execution_count": 1,
   "metadata": {},
   "outputs": [],
   "source": [
    "import networkx as nx\n",
    "from parse import read_input_file, write_input_file, write_output_file\n",
    "from utils import is_valid_network, average_pairwise_distance, average_pairwise_distance_fast\n",
    "import sys\n",
    "\n",
    "import matplotlib.pyplot as plt\n",
    "%matplotlib inline\n",
    "import random\n",
    "\n",
    "import solver\n",
    "from solver import EmployedBee"
   ]
  },
  {
   "cell_type": "markdown",
   "metadata": {},
   "source": []
  },
  {
   "cell_type": "markdown",
   "metadata": {},
   "source": [
    "## Generate Inputs"
   ]
  },
  {
   "cell_type": "code",
   "execution_count": 2,
   "metadata": {},
   "outputs": [],
   "source": [
    "def randomNGraph(n: int):\n",
    "    temp = nx.generators.random_graphs.erdos_renyi_graph(n, 5/n)\n",
    "    while not nx.is_connected(temp):\n",
    "        temp = nx.generators.random_graphs.erdos_renyi_graph(n, 5/n)\n",
    "\n",
    "    for (u, v) in temp.edges():\n",
    "        temp.edges[u, v]['weight'] = round(random.uniform(1/n, n), 2)\n",
    "    return temp\n",
    ""
   ]
  },
  {
   "cell_type": "markdown",
   "metadata": {},
   "source": [
    "## Create input files"
   ]
  },
  {
   "cell_type": "code",
   "execution_count": 3,
   "metadata": {},
   "outputs": [],
   "source": [
    "G25 = randomNGraph(25)\n",
    "G50 = randomNGraph(50)\n",
    "G100 = randomNGraph(100)"
   ]
  },
  {
   "cell_type": "code",
   "execution_count": 4,
   "metadata": {},
   "outputs": [],
   "source": [
    "write_input_file(G25, \"./25.in\")\n",
    "write_input_file(G50, \"./50.in\")\n",
    "write_input_file(G100, \"./100.in\")"
   ]
  },
  {
   "cell_type": "markdown",
   "metadata": {},
   "source": [
    "## Algorithm"
   ]
  },
  {
   "cell_type": "markdown",
   "metadata": {},
   "source": [
    "### Artificial Bee Colony Algorithms\n",
    "\n",
    "- Initialisation\n",
    "   - Each scout bee generates a random connected dominating tree and becomes employed bee. \n",
    "\n",
    "- Iteration\n",
    "   - Each employed bee calls `find_neighbor` to try to find a solution toward its local optimum. \n",
    "   - Each onlooker bee randomly chooses two employed bee and choose the bee whose solution has lower cost. The one chosen is called `find_neighbor` again.  \n",
    "   - If an employed bee solution is not improved over time (e.g. 10 times or so), fire the bee (let the bee find a new solution from scratch). \n",
    "\n",
    "- Final Decision\n",
    "   - Choose an employed bee with lower cost. "
   ]
  },
  {
   "cell_type": "code",
   "execution_count": 2,
   "metadata": {},
   "outputs": [],
   "source": [
    "def cost(T, G):\n",
    "    assert(is_valid_network(G, T))\n",
    "    if len(T) == 1:\n",
    "        return 0\n",
    "    return average_pairwise_distance_fast(T)"
   ]
  },
  {
   "cell_type": "markdown",
   "metadata": {},
   "source": [
    "#### Unit Tests: Test if `random_dominating_tree` (scout) is valid"
   ]
  },
  {
   "cell_type": "code",
   "execution_count": 8,
   "metadata": {},
   "outputs": [],
   "source": [
    "def testRandomDominatingTree(iterations: int, sub_iterations: int):\n",
    "    for i in range(iterations):\n",
    "        r = randomNGraph(100)\n",
    "        costs = []\n",
    "        for _ in range(sub_iterations):\n",
    "            rd = solver.randomDominatingTree(r)\n",
    "            assert(is_valid_network(r, rd))\n",
    "            costs.append(round(average_pairwise_distance_fast(rd), 2))\n",
    "        print(\"At iteration %d: Initial Costs: %s\" % (i, str(costs)))\n",
    "    print(\"TEST PASSED: All results are valid network. \")\n"
   ]
  },
  {
   "cell_type": "markdown",
   "metadata": {},
   "source": [
    "### Unit Tests: Test the ABC Algorithm and parameter"
   ]
  },
  {
   "cell_type": "code",
   "execution_count": 9,
   "metadata": {},
   "outputs": [],
   "source": [
    "def TestABC(test_iter: int, n_employed: int, n_onlooker: int, n_iter: int, fire_limit: int):\n",
    "    cost_ratio_mst:List[float] = []\n",
    "    cost_ratio_single:List[float] = []\n",
    "\n",
    "    for i in range(test_iter):\n",
    "        f = random.randint(1, 303)\n",
    "        print(\"TEST SUITE %d\" % f)\n",
    "        G = read_input_file(\"./inputs/large-%d.in\" % f)\n",
    "        # test ABC\n",
    "        print(\"Running ABC\")\n",
    "        T = solver.ABC(G, n_employed, n_onlooker, n_iter, fire_limit, log=True)\n",
    "        # test single intelligent observer\n",
    "        print(\"Running Single Observer\")\n",
    "        single_cost = []\n",
    "        for _ in range(n_employed):\n",
    "            bee = EmployedBee(G)\n",
    "            for _ in range(n_iter):\n",
    "                bee.work()\n",
    "                if len(bee.solution) == 1:\n",
    "                    break\n",
    "            single_cost.append(cost(bee.solution, G))\n",
    "        bee = EmployedBee(G)\n",
    "        # test naive MST\n",
    "        print(\"Running MST\")\n",
    "        mst = nx.minimum_spanning_tree(G)\n",
    "        \n",
    "        mst_cost, bee_cost, T_cost = cost(mst, G), min(single_cost), cost(T, G)\n",
    "        print(\"Cost of MST is %f\" % mst_cost)\n",
    "        print(\"Cost of single observer is %f\" % bee_cost)\n",
    "        print(\"Cost of ABC is %f\" % T_cost)\n",
    "\n",
    "        if (bee_cost == 0):\n",
    "            bee_cost = 1e-99\n",
    "        if (mst_cost == 0):\n",
    "            mst_cost = 1e-99\n",
    "        cost_ratio_mst.append(T_cost / mst_cost)\n",
    "        cost_ratio_single.append(T_cost / bee_cost)\n",
    "        print(\"============================\")\n",
    "\n",
    "    print(\"Average cost ratio to MST is %f\" % (sum(cost_ratio_mst) / len(cost_ratio_mst)))\n",
    "    print(\"Average cost ratio to Single observer is %f\" % (sum(cost_ratio_single) / len(cost_ratio_single)))"
   ]
  },
  {
   "cell_type": "code",
   "execution_count": 10,
   "metadata": {},
   "outputs": [
    {
     "output_type": "stream",
     "name": "stdout",
     "text": "TEST SUITE 178\nRunning ABC\nAt iteration 0, the best cost is 3.294384, 15 scouts are called\nAt iteration 100, the best cost is 2.027273, 15 scouts are called\nAt iteration 200, the best cost is 1.827778, 30 scouts are called\nAt iteration 300, the best cost is 1.827778, 45 scouts are called\nAt iteration 400, the best cost is 1.827778, 59 scouts are called\nAt iteration 500, the best cost is 1.827778, 63 scouts are called\nAt iteration 600, the best cost is 1.827778, 75 scouts are called\nAt iteration 700, the best cost is 1.827778, 90 scouts are called\nAt iteration 800, the best cost is 1.827778, 105 scouts are called\nAt iteration 900, the best cost is 1.827778, 116 scouts are called\nAt iteration 1000, the best cost is 1.827778, 124 scouts are called\nAt iteration 1100, the best cost is 1.827778, 135 scouts are called\nAt iteration 1200, the best cost is 1.800000, 149 scouts are called\nAt iteration 1300, the best cost is 1.790909, 163 scouts are called\nRunning Single Observer\nRunning MST\nCost of MST is 3.803333\nCost of single observer is 1.790909\nCost of ABC is 1.790909\n============================\nTEST SUITE 111\nRunning ABC\nAt iteration 0, the best cost is 109.752000, 15 scouts are called\nAt iteration 100, the best cost is 99.715000, 15 scouts are called\nAt iteration 200, the best cost is 99.715000, 30 scouts are called\nAt iteration 300, the best cost is 99.715000, 45 scouts are called\nAt iteration 400, the best cost is 99.715000, 60 scouts are called\nAt iteration 500, the best cost is 99.715000, 75 scouts are called\nAt iteration 600, the best cost is 99.715000, 90 scouts are called\nAt iteration 700, the best cost is 99.715000, 105 scouts are called\nAt iteration 800, the best cost is 99.715000, 120 scouts are called\nAt iteration 900, the best cost is 99.715000, 135 scouts are called\nAt iteration 1000, the best cost is 99.715000, 150 scouts are called\nAt iteration 1100, the best cost is 99.715000, 165 scouts are called\nAt iteration 1200, the best cost is 99.715000, 180 scouts are called\nAt iteration 1300, the best cost is 99.715000, 195 scouts are called\nRunning Single Observer\nRunning MST\nCost of MST is 123.196000\nCost of single observer is 99.715000\nCost of ABC is 99.715000\n============================\nTEST SUITE 69\nRunning ABC\nAt iteration 0, the best cost is 6.666667, 15 scouts are called\nFound a bee whose cost is zero! Program finished early at iteration 4. \nRunning Single Observer\nRunning MST\nCost of MST is 7.000000\nCost of single observer is 0.000000\nCost of ABC is 0.000000\n============================\nTEST SUITE 253\nRunning ABC\nAt iteration 0, the best cost is 113.010424, 15 scouts are called\nAt iteration 100, the best cost is 69.475127, 15 scouts are called\nAt iteration 200, the best cost is 69.475127, 30 scouts are called\nAt iteration 300, the best cost is 69.475127, 45 scouts are called\nAt iteration 400, the best cost is 69.475127, 57 scouts are called\nAt iteration 500, the best cost is 69.475127, 61 scouts are called\nAt iteration 600, the best cost is 69.475127, 75 scouts are called\nAt iteration 700, the best cost is 66.406227, 90 scouts are called\nAt iteration 800, the best cost is 66.406227, 104 scouts are called\nAt iteration 900, the best cost is 66.406227, 114 scouts are called\nAt iteration 1000, the best cost is 66.406227, 121 scouts are called\nAt iteration 1100, the best cost is 66.406227, 135 scouts are called\nAt iteration 1200, the best cost is 66.406227, 149 scouts are called\nAt iteration 1300, the best cost is 66.406227, 159 scouts are called\nRunning Single Observer\nRunning MST\nCost of MST is 129.065120\nCost of single observer is 72.658939\nCost of ABC is 66.406227\n============================\nTEST SUITE 152\nRunning ABC\nAt iteration 0, the best cost is 43.766419, 15 scouts are called\nAt iteration 100, the best cost is 43.242743, 15 scouts are called\nAt iteration 200, the best cost is 43.242743, 30 scouts are called\nAt iteration 300, the best cost is 43.242743, 45 scouts are called\nAt iteration 400, the best cost is 43.242743, 60 scouts are called\nAt iteration 500, the best cost is 43.242743, 75 scouts are called\nAt iteration 600, the best cost is 43.242743, 90 scouts are called\nAt iteration 700, the best cost is 43.242743, 105 scouts are called\nAt iteration 800, the best cost is 43.242743, 120 scouts are called\nAt iteration 900, the best cost is 43.242743, 135 scouts are called\nAt iteration 1000, the best cost is 43.242743, 150 scouts are called\nAt iteration 1100, the best cost is 43.242743, 165 scouts are called\nAt iteration 1200, the best cost is 43.242743, 180 scouts are called\nAt iteration 1300, the best cost is 43.242743, 195 scouts are called\nRunning Single Observer\nRunning MST\nCost of MST is 47.934213\nCost of single observer is 43.242743\nCost of ABC is 43.242743\n============================\nTEST SUITE 165\nRunning ABC\nAt iteration 0, the best cost is 30.456743, 15 scouts are called\nFound a bee whose cost is zero! Program finished early at iteration 21. \nRunning Single Observer\nRunning MST\nCost of MST is 29.237433\nCost of single observer is 0.000000\nCost of ABC is 0.000000\n============================\nTEST SUITE 178\nRunning ABC\nAt iteration 0, the best cost is 3.423333, 15 scouts are called\nAt iteration 100, the best cost is 1.800000, 15 scouts are called\nAt iteration 200, the best cost is 1.800000, 30 scouts are called\nAt iteration 300, the best cost is 1.800000, 45 scouts are called\nAt iteration 400, the best cost is 1.800000, 55 scouts are called\nAt iteration 500, the best cost is 1.790909, 62 scouts are called\nAt iteration 600, the best cost is 1.790909, 75 scouts are called\nAt iteration 700, the best cost is 1.790909, 89 scouts are called\nAt iteration 800, the best cost is 1.790909, 101 scouts are called\nAt iteration 900, the best cost is 1.790909, 111 scouts are called\nAt iteration 1000, the best cost is 1.790909, 120 scouts are called\nAt iteration 1100, the best cost is 1.790909, 134 scouts are called\nAt iteration 1200, the best cost is 1.790909, 148 scouts are called\nAt iteration 1300, the best cost is 1.790909, 160 scouts are called\nRunning Single Observer\nRunning MST\nCost of MST is 3.803333\nCost of single observer is 1.872727\nCost of ABC is 1.790909\n============================\nTEST SUITE 46\nRunning ABC\nAt iteration 0, the best cost is 1.096267, 15 scouts are called\nAt iteration 100, the best cost is 0.100000, 15 scouts are called\nAt iteration 200, the best cost is 0.100000, 30 scouts are called\nAt iteration 300, the best cost is 0.100000, 45 scouts are called\nAt iteration 400, the best cost is 0.100000, 48 scouts are called\nAt iteration 500, the best cost is 0.100000, 60 scouts are called\nAt iteration 600, the best cost is 0.100000, 75 scouts are called\nAt iteration 700, the best cost is 0.100000, 84 scouts are called\nAt iteration 800, the best cost is 0.100000, 91 scouts are called\nAt iteration 900, the best cost is 0.100000, 105 scouts are called\nAt iteration 1000, the best cost is 0.100000, 117 scouts are called\nAt iteration 1100, the best cost is 0.100000, 127 scouts are called\nAt iteration 1200, the best cost is 0.100000, 135 scouts are called\nAt iteration 1300, the best cost is 0.100000, 148 scouts are called\nRunning Single Observer\nRunning MST\nCost of MST is 0.967333\nCost of single observer is 0.100000\nCost of ABC is 0.100000\n============================\nTEST SUITE 233\nRunning ABC\nAt iteration 0, the best cost is 120.855217, 15 scouts are called\nAt iteration 100, the best cost is 68.788364, 15 scouts are called\nAt iteration 200, the best cost is 63.212422, 30 scouts are called\nAt iteration 300, the best cost is 63.212422, 45 scouts are called\nAt iteration 400, the best cost is 63.212422, 60 scouts are called\nAt iteration 500, the best cost is 63.212422, 69 scouts are called\nAt iteration 600, the best cost is 59.787378, 76 scouts are called\nAt iteration 700, the best cost is 59.787378, 90 scouts are called\nAt iteration 800, the best cost is 59.787378, 105 scouts are called\nAt iteration 900, the best cost is 59.787378, 118 scouts are called\nAt iteration 1000, the best cost is 59.787378, 131 scouts are called\nAt iteration 1100, the best cost is 59.787378, 142 scouts are called\nAt iteration 1200, the best cost is 59.787378, 150 scouts are called\nAt iteration 1300, the best cost is 59.787378, 165 scouts are called\nRunning Single Observer\nRunning MST\nCost of MST is 138.819100\nCost of single observer is 65.183382\nCost of ABC is 59.787378\n============================\nTEST SUITE 202\nRunning ABC\nAt iteration 0, the best cost is 77.123514, 15 scouts are called\nAt iteration 100, the best cost is 33.878205, 15 scouts are called\nAt iteration 200, the best cost is 33.878205, 30 scouts are called\nAt iteration 300, the best cost is 33.108788, 45 scouts are called\nAt iteration 400, the best cost is 33.108788, 59 scouts are called\nAt iteration 500, the best cost is 33.108788, 65 scouts are called\nAt iteration 600, the best cost is 33.108788, 76 scouts are called\nAt iteration 700, the best cost is 33.108788, 90 scouts are called\nAt iteration 800, the best cost is 33.108788, 103 scouts are called\nAt iteration 900, the best cost is 33.108788, 115 scouts are called\nAt iteration 1000, the best cost is 33.108788, 125 scouts are called\nAt iteration 1100, the best cost is 33.108788, 135 scouts are called\nAt iteration 1200, the best cost is 33.108788, 150 scouts are called\nAt iteration 1300, the best cost is 33.108788, 161 scouts are called\nRunning Single Observer\nRunning MST\nCost of MST is 106.731933\nCost of single observer is 34.406970\nCost of ABC is 33.108788\n============================\nAverage cost ratio to MST is 0.401207\nAverage cost ratio to Single observer is 0.774974\n"
    }
   ],
   "source": [
    "TestABC(10, 15, 3, 1400, 100)"
   ]
  },
  {
   "cell_type": "code",
   "execution_count": 13,
   "metadata": {},
   "outputs": [],
   "source": [
    "G = read_input_file(\"./inputs/large-68.in\")"
   ]
  },
  {
   "cell_type": "code",
   "execution_count": null,
   "metadata": {},
   "outputs": [],
   "source": []
  }
 ],
 "metadata": {
  "language_info": {
   "name": "python",
   "codemirror_mode": {
    "name": "ipython",
    "version": 3
   },
   "version": "3.7.4-final"
  },
  "orig_nbformat": 2,
  "file_extension": ".py",
  "mimetype": "text/x-python",
  "name": "python",
  "npconvert_exporter": "python",
  "pygments_lexer": "ipython3",
  "version": 3,
  "kernelspec": {
   "name": "python37464bitbasecondac3a000222dd44143bef7e05ccc0520a7",
   "display_name": "Python 3.7.4 64-bit ('base': conda)"
  }
 },
 "nbformat": 4,
 "nbformat_minor": 2
}